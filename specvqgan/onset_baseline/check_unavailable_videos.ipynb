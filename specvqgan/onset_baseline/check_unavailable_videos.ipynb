{
 "cells": [
  {
   "cell_type": "code",
   "execution_count": 1,
   "metadata": {},
   "outputs": [],
   "source": [
    "import os\n",
    "import numpy as np\n",
    "import torch\n",
    "from torch.utils.data import DataLoader\n",
    "import matplotlib.pyplot as plt\n",
    "from utils import utils, torch_utils\n",
    "\n",
    "from config import init_args\n",
    "import data\n",
    "import models\n",
    "import librosa\n",
    "import copy\n",
    "\n",
    "import json\n",
    "from moviepy.editor import VideoFileClip\n",
    "import argparse\n",
    "from glob import glob\n",
    "from tqdm import tqdm\n",
    "import matplotlib.pyplot as plt\n",
    "from sklearn.metrics import accuracy_score, average_precision_score, precision_recall_curve"
   ]
  },
  {
   "cell_type": "code",
   "execution_count": 2,
   "metadata": {},
   "outputs": [
    {
     "name": "stdout",
     "output_type": "stream",
     "text": [
      "Removed samples (less than 150.0 frames) : 14\n",
      "Greatesthit Dataloader: # sample of train: 32752\n",
      "Removed samples (less than 150.0 frames) : 5\n",
      "Greatesthit Dataloader: # sample of val: 1926\n",
      "Removed samples (less than 150.0 frames) : 0\n",
      "Greatesthit Dataloader: # sample of test: 4041\n"
     ]
    }
   ],
   "source": [
    "args = init_args()\n",
    "\n",
    "train_dataset = data.GreatestHitDataset(args, split='train')\n",
    "train_loader = DataLoader(\n",
    "    train_dataset,\n",
    "    batch_size=args.batch_size,\n",
    "    shuffle=True,\n",
    "    num_workers=args.num_workers,\n",
    "    pin_memory=True,\n",
    "    drop_last=False)\n",
    "\n",
    "val_dataset = data.GreatestHitDataset(args, split='val')\n",
    "val_loader = DataLoader(\n",
    "    val_dataset,\n",
    "    batch_size=args.batch_size,\n",
    "    shuffle=False,\n",
    "    num_workers=args.num_workers,\n",
    "    pin_memory=True,\n",
    "    drop_last=False)\n",
    "\n",
    "test_dataset = data.GreatestHitDataset(args, split='test')\n",
    "test_loader = DataLoader(\n",
    "    test_dataset,\n",
    "    batch_size=1,\n",
    "    shuffle=False,\n",
    "    num_workers=args.num_workers,\n",
    "    pin_memory=True,\n",
    "    drop_last=False)"
   ]
  },
  {
   "cell_type": "code",
   "execution_count": 4,
   "metadata": {},
   "outputs": [
    {
     "data": {
      "text/plain": [
       "['2015-09-27-22-43-25-429_56595',\n",
       " '2015-09-27-22-43-25-429_128624',\n",
       " '2015-10-06-18-02-12-315_33075',\n",
       " '2015-10-06-18-02-12-315_59535',\n",
       " '2015-10-06-18-02-12-315_19844',\n",
       " '2015-09-27-22-43-25-429_140385',\n",
       " '2015-09-27-22-43-25-429_105105',\n",
       " '2015-10-06-18-02-12-315_93344',\n",
       " '2015-09-27-22-43-25-429_83055',\n",
       " '2015-10-06-18-02-12-315_69825',\n",
       " '2015-10-06-18-02-12-315_108045',\n",
       " '2015-09-27-22-43-25-429_69825',\n",
       " '2015-09-27-22-43-25-429_94815',\n",
       " '2015-09-27-22-43-25-429_19844']"
      ]
     },
     "execution_count": 4,
     "metadata": {},
     "output_type": "execute_result"
    }
   ],
   "source": [
    "train_dataset.list_discard"
   ]
  },
  {
   "cell_type": "code",
   "execution_count": 6,
   "metadata": {},
   "outputs": [
    {
     "data": {
      "text/plain": [
       "['2015-09-27-22-43-25-429_44834',\n",
       " '2015-09-27-22-43-25-429_116865',\n",
       " '2015-09-27-22-43-25-429_31604',\n",
       " '2015-10-06-18-02-12-315_46305',\n",
       " '2015-10-06-18-02-12-315_83055']"
      ]
     },
     "execution_count": 6,
     "metadata": {},
     "output_type": "execute_result"
    }
   ],
   "source": [
    "val_dataset.list_discard"
   ]
  },
  {
   "cell_type": "code",
   "execution_count": 3,
   "metadata": {},
   "outputs": [
    {
     "data": {
      "text/plain": [
       "[]"
      ]
     },
     "execution_count": 3,
     "metadata": {},
     "output_type": "execute_result"
    }
   ],
   "source": [
    "test_dataset.list_discard"
   ]
  },
  {
   "cell_type": "code",
   "execution_count": 17,
   "metadata": {},
   "outputs": [
    {
     "name": "stdout",
     "output_type": "stream",
     "text": [
      "Train dataset available:  32738\n",
      "Train dataset unavailable:  14\n",
      "Val dataset available:  1921\n",
      "Val dataset unavailable:  5\n",
      "Test dataset available:  4041\n",
      "Test dataset unavailable:  0\n"
     ]
    }
   ],
   "source": [
    "print(\"Train dataset available: \", len(train_dataset.list_sample))\n",
    "print(\"Train dataset unavailable: \", len(train_dataset.list_discard))\n",
    "print(\"Val dataset available: \", len(val_dataset.list_sample))\n",
    "print(\"Val dataset unavailable: \", len(val_dataset.list_discard))\n",
    "print(\"Test dataset available: \", len(test_dataset.list_sample))\n",
    "print(\"Test dataset unavailable: \", len(test_dataset.list_discard))"
   ]
  },
  {
   "cell_type": "code",
   "execution_count": 14,
   "metadata": {},
   "outputs": [
    {
     "name": "stdout",
     "output_type": "stream",
     "text": [
      "train dataset available:  871\n",
      "train dataset unavailable:  2\n",
      "val dataset available:  747\n",
      "val dataset unavailable:  2\n",
      "test dataset available:  97\n",
      "test dataset unavailable:  0\n"
     ]
    }
   ],
   "source": [
    "train_avail_list = list(set([sample.split('_')[0] for sample in train_dataset.list_sample]))\n",
    "train_unavail_list = list(set([sample.split('_')[0] for sample in train_dataset.list_discard]))\n",
    "val_avail_list = list(set([sample.split('_')[0] for sample in val_dataset.list_sample]))\n",
    "val_unavail_list = list(set([sample.split('_')[0] for sample in val_dataset.list_discard]))\n",
    "test_avail_list = list(set([sample.split('_')[0] for sample in test_dataset.list_sample]))\n",
    "test_unavail_list = list(set([sample.split('_')[0] for sample in test_dataset.list_discard]))\n",
    "\n",
    "print(\"train dataset available: \", len(train_avail_list))\n",
    "print(\"train dataset unavailable: \", len(train_unavail_list))\n",
    "print(\"val dataset available: \", len(val_avail_list))\n",
    "print(\"val dataset unavailable: \", len(val_unavail_list))\n",
    "print(\"test dataset available: \", len(test_avail_list))\n",
    "print(\"test dataset unavailable: \", len(test_unavail_list))"
   ]
  },
  {
   "cell_type": "code",
   "execution_count": 16,
   "metadata": {},
   "outputs": [
    {
     "name": "stdout",
     "output_type": "stream",
     "text": [
      "train dataset unavailable:  ['2015-09-27-22-43-25-429', '2015-10-06-18-02-12-315']\n",
      "val dataset unavailable:  ['2015-09-27-22-43-25-429', '2015-10-06-18-02-12-315']\n",
      "test dataset unavailable:  []\n"
     ]
    }
   ],
   "source": [
    "print(\"train dataset unavailable: \", train_unavail_list)\n",
    "print(\"val dataset unavailable: \", val_unavail_list)\n",
    "print(\"test dataset unavailable: \", test_unavail_list)"
   ]
  },
  {
   "cell_type": "code",
   "execution_count": 15,
   "metadata": {},
   "outputs": [
    {
     "data": {
      "image/png": "[encoded data removed]",
      "text/plain": [
       "<Figure size 1080x360 with 3 Axes>"
      ]
     },
     "metadata": {},
     "output_type": "display_data"
    }
   ],
   "source": [
    "# visualize avaliable and unavailable data with pie chart\n",
    "fig, axs = plt.subplots(1, 3, figsize=(15, 5), facecolor='w', edgecolor='k')\n",
    "axs[0].pie([len(train_avail_list), len(train_unavail_list)], labels=['Avail', 'Unavail'], autopct='%1.1f%%')\n",
    "axs[0].set_title('Train Dataset')\n",
    "axs[1].pie([len(val_avail_list), len(val_unavail_list)], labels=['Avail', 'Unavail'], autopct='%1.1f%%')\n",
    "axs[1].set_title('Val Dataset')\n",
    "axs[2].pie([len(test_avail_list), len(test_unavail_list)], labels=['Avail', 'Unavail'], autopct='%1.1f%%')\n",
    "axs[2].set_title('Test Dataset')\n",
    "plt.show()"
   ]
  },
  {
   "cell_type": "code",
   "execution_count": 29,
   "metadata": {},
   "outputs": [],
   "source": [
    "train_list_sample = '/home/dabin/video2foley/CondFoleyGen/data/greatesthit_train_2.00.json'\n",
    "val_list_sample = '/home/dabin/video2foley/CondFoleyGen/data/greatesthit_val_2.00.json'\n",
    "test_list_sample = '/home/dabin/video2foley/CondFoleyGen/data/greatesthit_test_2.00.json'\n",
    "\n",
    "if isinstance(train_list_sample, str):\n",
    "    with open(train_list_sample, \"r\") as f:\n",
    "        train_list_sample = json.load(f)\n",
    "if isinstance(val_list_sample, str):\n",
    "    with open(val_list_sample, \"r\") as f:\n",
    "        val_list_sample = json.load(f)\n",
    "if isinstance(test_list_sample, str):\n",
    "    with open(test_list_sample, \"r\") as f:\n",
    "        test_list_sample = json.load(f)"
   ]
  },
  {
   "cell_type": "code",
   "execution_count": 30,
   "metadata": {},
   "outputs": [],
   "source": [
    "train_list_video = list(set([sample.split('_')[0] for sample in train_list_sample]))\n",
    "val_list_video = list(set([sample.split('_')[0] for sample in val_list_sample]))\n",
    "test_list_video = list(set([sample.split('_')[0] for sample in test_list_sample]))"
   ]
  },
  {
   "cell_type": "code",
   "execution_count": 31,
   "metadata": {},
   "outputs": [
    {
     "name": "stdout",
     "output_type": "stream",
     "text": [
      "train_list_video:  873\n",
      "val_list_video:  749\n",
      "test_list_video:  97\n"
     ]
    }
   ],
   "source": [
    "print(\"train_list_video: \", len(train_list_video))\n",
    "print(\"val_list_video: \", len(val_list_video))\n",
    "print(\"test_list_video: \", len(test_list_video))"
   ]
  },
  {
   "cell_type": "code",
   "execution_count": 40,
   "metadata": {},
   "outputs": [
    {
     "name": "stdout",
     "output_type": "stream",
     "text": [
      "Duplicated A:  749\n"
     ]
    }
   ],
   "source": [
    "duplicated_A = []\n",
    "for video in train_list_video:\n",
    "    if video in val_list_video:\n",
    "        duplicated_A.append(video)\n",
    "        # print(video)\n",
    "        \n",
    "print(\"Duplicated A: \", len(duplicated_A))"
   ]
  },
  {
   "cell_type": "code",
   "execution_count": 41,
   "metadata": {},
   "outputs": [
    {
     "name": "stdout",
     "output_type": "stream",
     "text": [
      "Duplicated B:  0\n"
     ]
    }
   ],
   "source": [
    "duplicated_B = []\n",
    "for video in train_list_video:\n",
    "    if video in test_list_video:\n",
    "        duplicated_A.append(video)\n",
    "        # print(video)\n",
    "        \n",
    "print(\"Duplicated B: \", len(duplicated_B))"
   ]
  },
  {
   "cell_type": "code",
   "execution_count": 42,
   "metadata": {},
   "outputs": [
    {
     "name": "stdout",
     "output_type": "stream",
     "text": [
      "Duplicated C:  0\n"
     ]
    }
   ],
   "source": [
    "duplicated_C = []\n",
    "for video in val_list_video:\n",
    "    if video in test_list_video:\n",
    "        duplicated_A.append(video)\n",
    "        # print(video)\n",
    "        \n",
    "print(\"Duplicated C: \", len(duplicated_C))"
   ]
  },
  {
   "cell_type": "code",
   "execution_count": null,
   "metadata": {},
   "outputs": [],
   "source": []
  }
 ],
 "metadata": {
  "kernelspec": {
   "display_name": "condfoley",
   "language": "python",
   "name": "python3"
  },
  "language_info": {
   "codemirror_mode": {
    "name": "ipython",
    "version": 3
   },
   "file_extension": ".py",
   "mimetype": "text/x-python",
   "name": "python",
   "nbconvert_exporter": "python",
   "pygments_lexer": "ipython3",
   "version": "3.8.8"
  }
 },
 "nbformat": 4,
 "nbformat_minor": 2
}
